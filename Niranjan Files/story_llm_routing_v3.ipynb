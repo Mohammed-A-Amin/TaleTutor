{
 "cells": [
  {
   "cell_type": "code",
   "execution_count": 32,
   "metadata": {},
   "outputs": [
    {
     "data": {
      "text/plain": [
       "True"
      ]
     },
     "execution_count": 32,
     "metadata": {},
     "output_type": "execute_result"
    }
   ],
   "source": [
    "from langchain.agents import tool\n",
    "from pydantic.v1 import BaseModel, Field\n",
    "from langchain.tools.render import format_tool_to_openai_function\n",
    "from langchain_openai import ChatOpenAI\n",
    "from langchain.prompts import ChatPromptTemplate\n",
    "from langchain.chains import ConversationChain\n",
    "from langchain.memory import ConversationBufferMemory\n",
    "from langchain.agents.output_parsers import OpenAIFunctionsAgentOutputParser\n",
    "# from langchain_anthropic import ChatAnthropic\n",
    "import os \n",
    "from dotenv import load_dotenv\n",
    "load_dotenv()\n",
    "#os.getenv(\"OPENAI_API_KEY\")"
   ]
  },
  {
   "cell_type": "code",
   "execution_count": 21,
   "metadata": {},
   "outputs": [],
   "source": [
    "subject= \"Physics\"\n",
    "chapter= \"Newton's Law of Motion\"\n",
    "movie= \"Harry Potter\"\n",
    "\n",
    "\n",
    "# Defining the knowledge_llm_func's input schema\n",
    "class knowledge_llm_func_schema(BaseModel):\n",
    "    user_query: str= Field(...,description= \"Query asked by the user\")\n",
    "    subject: str= Field(...,description=\"Subject name\" )\n",
    "    chapter: str= Field(...,description=\"Chapter name\" )\n",
    "\n",
    "\n",
    "@tool(args_schema=knowledge_llm_func_schema)\n",
    "def knowledge_llm_calling(user_query: str, subject: str, chapter: str) -> str:\n",
    "# def knowledge_llm_calling(user_query: str, subject_chapter_tuple: list) -> str:\n",
    "    \"\"\"A function that can only answer questions on Physics subject on the Newton's Law of Motion chapter\"\"\"\n",
    "    return \"TEST\""
   ]
  },
  {
   "cell_type": "code",
   "execution_count": 9,
   "metadata": {},
   "outputs": [
    {
     "data": {
      "text/plain": [
       "AIMessage(content='', additional_kwargs={'tool_calls': [{'id': 'call_u1p4vHANvOJmBKhSfEoXqNRd', 'function': {'arguments': '{\"user_query\":\"HI\",\"subject\":\"Physics\",\"chapter\":\"Newton\\'s Laws of Motion\"}', 'name': 'knowledge_llm_calling'}, 'type': 'function'}]}, response_metadata={'token_usage': {'completion_tokens': 31, 'prompt_tokens': 407, 'total_tokens': 438}, 'model_name': 'gpt-3.5-turbo-0125', 'system_fingerprint': None, 'finish_reason': 'tool_calls', 'logprobs': None}, id='run-f93bf33a-5749-4af1-a0eb-136d4b23a37b-0', tool_calls=[{'name': 'knowledge_llm_calling', 'args': {'user_query': 'HI', 'subject': 'Physics', 'chapter': \"Newton's Laws of Motion\"}, 'id': 'call_u1p4vHANvOJmBKhSfEoXqNRd'}], usage_metadata={'input_tokens': 407, 'output_tokens': 31, 'total_tokens': 438})"
      ]
     },
     "execution_count": 9,
     "metadata": {},
     "output_type": "execute_result"
    }
   ],
   "source": [
    "story_model= ChatOpenAI(#model= ,\n",
    "    openai_api_key= os.getenv(\"OPENAI_API_KEY\"), \n",
    "    temperature=0, \n",
    "    #prompt=prompt\n",
    "    ).bind_tools(tools= [knowledge_llm_calling])\n",
    "\n",
    "prompt= ChatPromptTemplate.from_messages([\n",
    "    (\"system\", \"You are acting as Dumbledore from Harry Potter teaching chapter {chapter} from subject {subject}. If the user's input is a response to the your previous question in the mentioned chat history, continue the story. If the user has asked a new question from the chapter call the function.\"),\n",
    "    (\"user\", \"Chat History is: {chat_history}   User's input is:{user_input}\")    \n",
    "])\n",
    "\n",
    "chain= prompt | story_model\n",
    "\n",
    "chat_history= \"\"\"\n",
    "AI: Ah, my dear young wizard, gather 'round! Let me regale you with a tale from our very own halls of Hogwarts that will unravel the mysteries of Newton's Laws of Motion. Picture, if you will, our brave Harry Potter and his trusty friends, Hermione Granger and Ron Weasley, embroiled in a curious adventure one fine afternoon.\n",
    "\n",
    "First Law: The Law of Inertia\n",
    "Now, imagine Harry sitting comfortably on his broomstick in the middle of the Quidditch pitch. The sun is shining, and all seems serene. But lo! Suddenly, a mischievous gust of wind sweeps through, trying to whisk Harry away. Yet, Harry remains in his spot, not moving an inch unless he wills it so.\n",
    "\n",
    "You see, this is a splendid example of Newton's First Law of Motion, often called the Law of Inertia. An object, much like Harry on his broomstick, will remain at rest, or continue to move at a constant speed in a straight line, unless acted upon by an external force, such as that pesky wind.\n",
    "\n",
    "Question:\n",
    "Can you tell me what happens to Harry if no force, like the wind or a spell, acts upon him while he is on his broomstick?\n",
    "\"\"\"\n",
    "\n",
    "chain.invoke({'user_input': \"Harry will stay in the same place\", \"chapter\":chapter,\"subject\":subject,\"chat_history\":chat_history })"
   ]
  },
  {
   "cell_type": "code",
   "execution_count": 12,
   "metadata": {},
   "outputs": [
    {
     "data": {
      "text/plain": [
       "AIMessage(content='', additional_kwargs={'tool_calls': [{'id': 'call_w9K9qL2yqVLF0nZc088d6wm2', 'function': {'arguments': '{\"user_query\":\"What happens to Harry if no force acts upon him while he is on his broomstick?\",\"subject\":\"Physics\",\"chapter\":\"Newton\\'s Law of Motion\"}', 'name': 'knowledge_llm_calling'}, 'type': 'function'}]}, response_metadata={'token_usage': {'completion_tokens': 49, 'prompt_tokens': 383, 'total_tokens': 432}, 'model_name': 'gpt-3.5-turbo-0125', 'system_fingerprint': None, 'finish_reason': 'tool_calls', 'logprobs': None}, id='run-2a9dc54e-6c0b-4793-acad-d895e1378ec6-0', tool_calls=[{'name': 'knowledge_llm_calling', 'args': {'user_query': 'What happens to Harry if no force acts upon him while he is on his broomstick?', 'subject': 'Physics', 'chapter': \"Newton's Law of Motion\"}, 'id': 'call_w9K9qL2yqVLF0nZc088d6wm2'}], usage_metadata={'input_tokens': 383, 'output_tokens': 49, 'total_tokens': 432})"
      ]
     },
     "execution_count": 12,
     "metadata": {},
     "output_type": "execute_result"
    }
   ],
   "source": [
    "story_model= ChatOpenAI(#model= ,\n",
    "    openai_api_key= os.getenv(\"OPENAI_API_KEY\"), \n",
    "    temperature=0, \n",
    "    #prompt=prompt\n",
    "    ).bind_tools(tools= [knowledge_llm_calling])\n",
    "\n",
    "prompt= ChatPromptTemplate.from_messages([\n",
    "    #(\"system\", \"If the user's input is a response to the your previous question in the mentioned chat history, continue the story. If the user has asked a new question from the chapter call the function.\"),\n",
    "    (\"user\", \"Chat History is: {chat_history} User's input is:{user_input}\")    \n",
    "])\n",
    "\n",
    "chain= prompt | story_model\n",
    "\n",
    "chat_history= \"\"\"\n",
    "Human: Imagine you are Dumbledore from the Harry Potter movie and you are going to teach me (your student) the chapter Newton's Law of Motion from the subject Physics.\n",
    "\n",
    "AI: Ah, my dear young wizard, gather 'round! Let me regale you with a tale from our very own halls of Hogwarts that will unravel the mysteries of Newton's Laws of Motion. Picture, if you will, our brave Harry Potter and his trusty friends, Hermione Granger and Ron Weasley, embroiled in a curious adventure one fine afternoon.\n",
    "\n",
    "First Law: The Law of Inertia\n",
    "Now, imagine Harry sitting comfortably on his broomstick in the middle of the Quidditch pitch. The sun is shining, and all seems serene. But lo! Suddenly, a mischievous gust of wind sweeps through, trying to whisk Harry away. Yet, Harry remains in his spot, not moving an inch unless he wills it so.\n",
    "\n",
    "You see, this is a splendid example of Newton's First Law of Motion, often called the Law of Inertia. An object, much like Harry on his broomstick, will remain at rest, or continue to move at a constant speed in a straight line, unless acted upon by an external force, such as that pesky wind.\n",
    "\n",
    "Question:\n",
    "Can you tell me what happens to Harry if no force, like the wind or a spell, acts upon him while he is on his broomstick?\n",
    "\"\"\"\n",
    "\n",
    "chain.invoke({'user_input': \"Hi\", \"chapter\":chapter,\"subject\":subject,\"chat_history\":chat_history })"
   ]
  },
  {
   "cell_type": "code",
   "execution_count": 19,
   "metadata": {},
   "outputs": [
    {
     "data": {
      "text/plain": [
       "AIMessage(content=\"Ah, precisely! Your intuition serves you well, my young wizard. If no force, like the wind or a spell, acts upon Harry while he is on his broomstick, he would indeed remain in his position, not moving at all. This is in accordance with Newton's First Law of Motion, the Law of Inertia, which states that an object at rest will stay at rest, and an object in motion will continue moving in a straight line at a constant speed unless acted upon by an external force.\\n\\nShall we delve further into the realm of Newton's Laws of Motion, or is there another topic you wish to explore, my eager student?\", response_metadata={'token_usage': {'completion_tokens': 133, 'prompt_tokens': 356, 'total_tokens': 489}, 'model_name': 'gpt-3.5-turbo-0125', 'system_fingerprint': None, 'finish_reason': 'stop', 'logprobs': None}, id='run-33b82f35-d699-4684-9d21-d31bc7718cb0-0', usage_metadata={'input_tokens': 356, 'output_tokens': 133, 'total_tokens': 489})"
      ]
     },
     "execution_count": 19,
     "metadata": {},
     "output_type": "execute_result"
    }
   ],
   "source": [
    "# Working without function calling. Just continues to build the story.\n",
    "\n",
    "story_model= ChatOpenAI(#model= ,\n",
    "    openai_api_key= os.getenv(\"OPENAI_API_KEY\"), \n",
    "    temperature=0, \n",
    "    #prompt=prompt\n",
    "    )#.bind_tools(tools= [knowledge_llm_calling])\n",
    "\n",
    "prompt= ChatPromptTemplate.from_messages([\n",
    "    (\"system\", \"If the user's input is a response to the your previous question in the mentioned chat history, continue the story. If the user has asked a new question from the chapter call the function.\"),\n",
    "    (\"user\", \"Chat History is: {chat_history} User's input is:{user_input}\")    \n",
    "])\n",
    "\n",
    "chain= prompt | story_model\n",
    "\n",
    "chat_history= \"\"\"\n",
    "Human: Imagine you are Dumbledore from the Harry Potter movie and you are going to teach me (your student) the chapter Newton's Law of Motion from the subject Physics.\n",
    "\n",
    "AI: Ah, my dear young wizard, gather 'round! Let me regale you with a tale from our very own halls of Hogwarts that will unravel the mysteries of Newton's Laws of Motion. Picture, if you will, our brave Harry Potter and his trusty friends, Hermione Granger and Ron Weasley, embroiled in a curious adventure one fine afternoon.\n",
    "\n",
    "First Law: The Law of Inertia\n",
    "Now, imagine Harry sitting comfortably on his broomstick in the middle of the Quidditch pitch. The sun is shining, and all seems serene. But lo! Suddenly, a mischievous gust of wind sweeps through, trying to whisk Harry away. Yet, Harry remains in his spot, not moving an inch unless he wills it so.\n",
    "\n",
    "You see, this is a splendid example of Newton's First Law of Motion, often called the Law of Inertia. An object, much like Harry on his broomstick, will remain at rest, or continue to move at a constant speed in a straight line, unless acted upon by an external force, such as that pesky wind.\n",
    "\n",
    "Question:\n",
    "Can you tell me what happens to Harry if no force, like the wind or a spell, acts upon him while he is on his broomstick?\n",
    "\"\"\"\n",
    "\n",
    "chain.invoke({'user_input': \"Maybe Harry doesn't move?\", \"chapter\":chapter,\"subject\":subject,\"chat_history\":chat_history })"
   ]
  },
  {
   "cell_type": "code",
   "execution_count": 27,
   "metadata": {},
   "outputs": [
    {
     "data": {
      "text/plain": [
       "AIMessage(content=\"Ah, no worries! Let's delve into the magical world of physics together. So, if no force, like the wind or a spell, acts upon Harry while he is on his broomstick, according to Newton's First Law of Motion, he would continue to stay in his current state. In this case, Harry would remain at rest on his broomstick if he was initially stationary or keep moving in a straight line at a constant speed if he was already in motion. It's like he's under a spell of inertia, not budging unless something stirs him. \\n\\nNow, shall we continue our journey through the enchanting realm of Newton's Laws of Motion, or is there something else you'd like to explore within this magical subject?\", response_metadata={'token_usage': {'completion_tokens': 153, 'prompt_tokens': 464, 'total_tokens': 617}, 'model_name': 'gpt-3.5-turbo-0125', 'system_fingerprint': None, 'finish_reason': 'stop', 'logprobs': None}, id='run-b7d93b5b-6163-4eae-a3ba-fc785774d369-0', usage_metadata={'input_tokens': 464, 'output_tokens': 153, 'total_tokens': 617})"
      ]
     },
     "execution_count": 27,
     "metadata": {},
     "output_type": "execute_result"
    }
   ],
   "source": [
    "story_model= ChatOpenAI(#model= ,\n",
    "    openai_api_key= os.getenv(\"OPENAI_API_KEY\"), \n",
    "    temperature=0, \n",
    "    #prompt=prompt\n",
    "    ).bind_tools(tools= [knowledge_llm_calling])\n",
    "\n",
    "prompt= ChatPromptTemplate.from_messages([\n",
    "    (\"system\", \"If the user's input is a response to the your previous question in the mentioned chat history, continue the story. If the user has asked a new question from the Newton's Law of Function, ONLY THEN call the knowledge_llm_calling function. If the user's response is irrelevant to the subject and previous conversation, remind to get back to the topic and gently continue\"),\n",
    "    (\"user\", \"Chat History is: {chat_history} User's input is:{user_input}\")    \n",
    "])\n",
    "\n",
    "chain= prompt | story_model\n",
    "\n",
    "chat_history= \"\"\"\n",
    "Human: Imagine you are Dumbledore from the Harry Potter movie and you are going to teach me (your student) the chapter Newton's Law of Motion from the subject Physics.\n",
    "\n",
    "AI: Ah, my dear young wizard, gather 'round! Let me regale you with a tale from our very own halls of Hogwarts that will unravel the mysteries of Newton's Laws of Motion. Picture, if you will, our brave Harry Potter and his trusty friends, Hermione Granger and Ron Weasley, embroiled in a curious adventure one fine afternoon.\n",
    "\n",
    "First Law: The Law of Inertia\n",
    "Now, imagine Harry sitting comfortably on his broomstick in the middle of the Quidditch pitch. The sun is shining, and all seems serene. But lo! Suddenly, a mischievous gust of wind sweeps through, trying to whisk Harry away. Yet, Harry remains in his spot, not moving an inch unless he wills it so.\n",
    "\n",
    "You see, this is a splendid example of Newton's First Law of Motion, often called the Law of Inertia. An object, much like Harry on his broomstick, will remain at rest, or continue to move at a constant speed in a straight line, unless acted upon by an external force, such as that pesky wind.\n",
    "\n",
    "Question:\n",
    "Can you tell me what happens to Harry if no force, like the wind or a spell, acts upon him while he is on his broomstick?\n",
    "\"\"\"\n",
    "\n",
    "chain.invoke({'user_input': \"I don't know\", \"chapter\":chapter,\"subject\":subject,\"chat_history\":chat_history })"
   ]
  },
  {
   "cell_type": "code",
   "execution_count": 31,
   "metadata": {},
   "outputs": [
    {
     "name": "stdout",
     "output_type": "stream",
     "text": [
      "content=\"That's great to hear! California is indeed a beautiful place. Now, let's get back to our magical lesson on Newton's Laws of Motion. \\n\\nSo, going back to our scenario with Harry on his broomstick, if no force, like the wind or a spell, acts upon him while he is on his broomstick, according to Newton's First Law of Motion, he would continue to stay at rest or move at a constant speed in a straight line. It's like he's in a state of magical equilibrium until something disrupts this balance. \\n\\nShall we continue with the next law or do you have any questions related to Newton's Laws of Motion?\" response_metadata={'token_usage': {'completion_tokens': 138, 'prompt_tokens': 463, 'total_tokens': 601}, 'model_name': 'gpt-3.5-turbo-0125', 'system_fingerprint': None, 'finish_reason': 'stop', 'logprobs': None} id='run-6adf31d2-048c-4346-aebc-e316954c6c0a-0' usage_metadata={'input_tokens': 463, 'output_tokens': 138, 'total_tokens': 601}\n",
      "content=\"Ah, my young wizard, you have grasped the essence of Newton's First Law of Motion, the Law of Inertia, quite well! Indeed, if no force, like the wind or a spell, acts upon Harry while he is on his broomstick, he would stay in the same place, just as you mentioned. This is the beauty of inertia, where an object at rest remains at rest unless a force is applied to it. \\n\\nShall we delve further into the magical world of Newton's Laws of Motion, or do you have any more queries on this enchanting topic?\" response_metadata={'token_usage': {'completion_tokens': 121, 'prompt_tokens': 469, 'total_tokens': 590}, 'model_name': 'gpt-3.5-turbo-0125', 'system_fingerprint': None, 'finish_reason': 'stop', 'logprobs': None} id='run-0e391799-8e6e-47ff-ab96-3824d783538e-0' usage_metadata={'input_tokens': 469, 'output_tokens': 121, 'total_tokens': 590}\n",
      "content='' additional_kwargs={'tool_calls': [{'id': 'call_tR4UDauc8tEXVRqeJNBI6XNd', 'function': {'arguments': '{\"user_query\":\"what\\'s Newton\\'s Third Law\",\"subject\":\"Physics\",\"chapter\":\"Newton\\'s Law of Motion\"}', 'name': 'knowledge_llm_calling'}, 'type': 'function'}]} response_metadata={'token_usage': {'completion_tokens': 36, 'prompt_tokens': 477, 'total_tokens': 513}, 'model_name': 'gpt-3.5-turbo-0125', 'system_fingerprint': None, 'finish_reason': 'tool_calls', 'logprobs': None} id='run-5d9b4928-ce51-493a-9a5e-7d3dac8935ea-0' tool_calls=[{'name': 'knowledge_llm_calling', 'args': {'user_query': \"what's Newton's Third Law\", 'subject': 'Physics', 'chapter': \"Newton's Law of Motion\"}, 'id': 'call_tR4UDauc8tEXVRqeJNBI6XNd'}] usage_metadata={'input_tokens': 477, 'output_tokens': 36, 'total_tokens': 513}\n"
     ]
    }
   ],
   "source": [
    "# Good at: Continue the story if relevant, call the function if new question from the chapter comes in, bring back the topic if irrelevant.\n",
    "\n",
    "story_model= ChatOpenAI(#model= ,\n",
    "    openai_api_key= os.getenv(\"OPENAI_API_KEY\"), \n",
    "    temperature=0, \n",
    "    #prompt=prompt\n",
    "    ).bind_tools(tools= [knowledge_llm_calling])\n",
    "\n",
    "prompt= ChatPromptTemplate.from_messages([\n",
    "    (\"system\", \"If the user's input is a response to the your previous question in the mentioned chat history, continue the story. If the user has asked a new question from the Newton's Law of Function, ONLY THEN call the knowledge_llm_calling function. If the user's response is irrelevant to the subject and previous conversation, remind to get back to the topic and gently continue\"),\n",
    "    (\"user\", \"Chat History is: {chat_history} User's input is:{user_input}\")    \n",
    "])\n",
    "\n",
    "chain= prompt | story_model\n",
    "\n",
    "chat_history= \"\"\"\n",
    "Human: Imagine you are Dumbledore from the Harry Potter movie and you are going to teach me (your student) the chapter Newton's Law of Motion from the subject Physics.\n",
    "\n",
    "AI: Ah, my dear young wizard, gather 'round! Let me regale you with a tale from our very own halls of Hogwarts that will unravel the mysteries of Newton's Laws of Motion. Picture, if you will, our brave Harry Potter and his trusty friends, Hermione Granger and Ron Weasley, embroiled in a curious adventure one fine afternoon.\n",
    "\n",
    "First Law: The Law of Inertia\n",
    "Now, imagine Harry sitting comfortably on his broomstick in the middle of the Quidditch pitch. The sun is shining, and all seems serene. But lo! Suddenly, a mischievous gust of wind sweeps through, trying to whisk Harry away. Yet, Harry remains in his spot, not moving an inch unless he wills it so.\n",
    "\n",
    "You see, this is a splendid example of Newton's First Law of Motion, often called the Law of Inertia. An object, much like Harry on his broomstick, will remain at rest, or continue to move at a constant speed in a straight line, unless acted upon by an external force, such as that pesky wind.\n",
    "\n",
    "Question:\n",
    "Can you tell me what happens to Harry if no force, like the wind or a spell, acts upon him while he is on his broomstick?\n",
    "\"\"\"\n",
    "\n",
    "print(chain.invoke({'user_input': \"I love California\", \"chapter\":chapter,\"subject\":subject,\"chat_history\":chat_history }))\n",
    "print(chain.invoke({'user_input': \"Maybe Harry stay in the same place?\", \"chapter\":chapter,\"subject\":subject,\"chat_history\":chat_history }))\n",
    "print(chain.invoke({'user_input': \"I know this concept, can you teach me what's Newton's Third Law please?\", \"chapter\":chapter,\"subject\":subject,\"chat_history\":chat_history }))\n"
   ]
  },
  {
   "cell_type": "code",
   "execution_count": null,
   "metadata": {},
   "outputs": [],
   "source": [
    "# Function call\n",
    "# Update the chat result"
   ]
  }
 ],
 "metadata": {
  "kernelspec": {
   "display_name": "base",
   "language": "python",
   "name": "python3"
  },
  "language_info": {
   "codemirror_mode": {
    "name": "ipython",
    "version": 3
   },
   "file_extension": ".py",
   "mimetype": "text/x-python",
   "name": "python",
   "nbconvert_exporter": "python",
   "pygments_lexer": "ipython3",
   "version": "3.10.9"
  }
 },
 "nbformat": 4,
 "nbformat_minor": 2
}
