{
 "cells": [
  {
   "cell_type": "code",
   "execution_count": 1,
   "metadata": {},
   "outputs": [],
   "source": [
    "import requests\n",
    "import re\n",
    "\n",
    "def text_to_speech(transcript):\n",
    "    headers = {\n",
    "        'AUTHORIZATION': 'e6fc7b189958464f97679eebae063093',\n",
    "        'X-USER-ID': '5HCUqkHMJWMFhGbD2t9tE67Zri33',\n",
    "        'accept': 'text/event-stream',\n",
    "        'content-type': 'application/json',\n",
    "    }\n",
    "\n",
    "    json_data = {\n",
    "        'text': transcript,\n",
    "        'voice': 's3://voice-cloning-zero-shot/f5e6a3b1-ed91-47eb-95c8-b2ccdc244bf5/dumbledore/manifest.json',\n",
    "        'output_format': 'mp3',\n",
    "        'voice_engine': 'PlayHT2.0',\n",
    "        'speed': 0.8,\n",
    "    }\n",
    "\n",
    "    response = requests.post('https://api.play.ht/api/v2/tts', headers=headers, json=json_data)\n",
    "    return response\n"
   ]
  },
  {
   "cell_type": "code",
   "execution_count": 4,
   "metadata": {},
   "outputs": [],
   "source": [
    "text= \"\"\"\n",
    "Ah, my dear student, today we shall delve into the mysterious concept of None. Now, imagine if you will, a scenario in the magical world of Harry Potter.\n",
    "\n",
    "Once upon a time, in the halls of Hogwarts, there were three friends - Harry, Ron, and Hermione. They were preparing for a magical potion-making class with Professor Snape. As they gathered their ingredients, Hermione realized that they were missing a crucial ingredient - the powdered moonstone.\n",
    "\n",
    "Now, my young friend, if Hermione says that they have none of the powdered moonstone, what do you think that means? Does it mean they have some, they have a lot, or they have none at all?\n",
    "\"\"\"\n",
    "response= text_to_speech(text)"
   ]
  },
  {
   "cell_type": "code",
   "execution_count": 6,
   "metadata": {},
   "outputs": [
    {
     "name": "stdout",
     "output_type": "stream",
     "text": [
      "URL not found in the text.\n",
      "<Response [403]>\n"
     ]
    }
   ],
   "source": [
    "# Define a regular expression pattern to match the URL\n",
    "url_pattern = r'url\":\\s*\"([^\"]*)\"'\n",
    "\n",
    "# Use regex to find the URL in the text\n",
    "url_match = re.search(url_pattern, response.text)\n",
    "\n",
    "if url_match:\n",
    "    # Extract the URL from the matched group\n",
    "    url = url_match.group(1)\n",
    "    print(\"Extracted URL:\", url)\n",
    "    \n",
    "    # Download the audio file\n",
    "    try:\n",
    "        response = requests.get(url)\n",
    "        if response.status_code == 200:\n",
    "            # Specify the file path where you want to save the audio file\n",
    "            file_path = 'downloaded_audio.mp3'  # You can change the filename if needed\n",
    "            \n",
    "            with open(file_path, 'wb') as f:\n",
    "                f.write(response.content)\n",
    "            \n",
    "            print(f\"Audio file downloaded successfully and saved as '{file_path}'.\")\n",
    "        else:\n",
    "            print(f\"Failed to download the audio file. Status code: {response.status_code}\")\n",
    "    except requests.RequestException as e:\n",
    "        print(f\"Error downloading the audio file: {e}\")\n",
    "else:\n",
    "    print(\"URL not found in the text.\")\n",
    "    print(response)"
   ]
  },
  {
   "cell_type": "code",
   "execution_count": null,
   "metadata": {},
   "outputs": [],
   "source": []
  }
 ],
 "metadata": {
  "kernelspec": {
   "display_name": "base",
   "language": "python",
   "name": "python3"
  },
  "language_info": {
   "codemirror_mode": {
    "name": "ipython",
    "version": 3
   },
   "file_extension": ".py",
   "mimetype": "text/x-python",
   "name": "python",
   "nbconvert_exporter": "python",
   "pygments_lexer": "ipython3",
   "version": "3.10.9"
  }
 },
 "nbformat": 4,
 "nbformat_minor": 2
}
